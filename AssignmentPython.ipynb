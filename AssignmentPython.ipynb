{
  "nbformat": 4,
  "nbformat_minor": 0,
  "metadata": {
    "colab": {
      "provenance": []
    },
    "kernelspec": {
      "name": "python3",
      "display_name": "Python 3"
    },
    "language_info": {
      "name": "python"
    }
  },
  "cells": [
    {
      "cell_type": "markdown",
      "source": [
        "#Assignment\n"
      ],
      "metadata": {
        "id": "l8I4zTUsGac0"
      }
    },
    {
      "cell_type": "markdown",
      "source": [
        "Q 1. What is Python, and why is it popular ?          \n",
        "Ans. Python is a high-level, interpreted programming language known for its simplicity, readability, and versatility. It was created by Guido van Rossum and first released in 1991. Python supports multiple programming paradigms, including procedural, object-oriented, and functional programming.\n",
        "\n",
        "Why is Python Popular?\n",
        "\n",
        "Here are the key reasons for Python's popularity:\n",
        "\n",
        "1. Easy to Learn and Use\n",
        "Clean and readable syntax (like plain English).\n",
        "\n",
        "Great for beginners and professionals alike.\n",
        "\n",
        "2. Versatile Applications\n",
        "Web development (Django, Flask)\n",
        "\n",
        "Data science and machine learning (Pandas, NumPy, Scikit-learn, TensorFlow)\n",
        "\n",
        "Automation and scripting\n",
        "\n",
        "Game development (Pygame)\n",
        "\n",
        "Desktop applications (Tkinter, PyQt)\n",
        "\n",
        "Cybersecurity and ethical hacking\n",
        "\n",
        "3. Large Community and Support\n",
        "Massive global community for support and collaboration.\n",
        "\n",
        "Plenty of tutorials, forums, and open-source libraries.\n",
        "\n",
        "4. Extensive Libraries and Frameworks\n",
        "Thousands of prebuilt libraries speed up development.\n",
        "\n",
        "Libraries for almost every domain (finance, AI, web, automation, etc.)\n",
        "\n",
        "5. Cross-Platform Compatibility\n",
        "Write once, run anywhere (Windows, macOS, Linux).\n",
        "\n",
        "6. Strong Support in Data Science and AI\n",
        "Preferred language for data science, AI, and machine learning due to tools like Jupyter, Matplotlib, TensorFlow, and Keras.\n",
        "\n",
        "Q2.What is an interpreter in Python         \n",
        "Ans An interpreter in Python is a program that reads and executes Python code line by line. It translates the high-level Python code into machine-readable instructions (bytecode), which the computer can understand and execute.\n",
        "\n",
        "Q3.  What are pre-defined keywords in Python       \n",
        "Ans Pre-defined keywords (also called reserved words) in Python are special words that have a fixed meaning and cannot be used as identifiers (like variable or function names). These words are part of the Python language syntax and are used to define the structure and rules of Python code.\n",
        "\n",
        "Q4.Can keywords be used as variable names      \n",
        "Ans You cannot use Python keywords as variable names because they are reserved for specific language functions. Always choose descriptive, non-keyword names for your variables.\n",
        "\n",
        "Q5.  What is mutability in Python     \n",
        "Ans Mutability refers to whether an object’s value can be changed after it is created.\n",
        "\n",
        "Q6. Why are lists mutable, but tuples are immutable     \n",
        "ans Lists are Mutable\n",
        "Designed for dynamic data: You can add, remove, or change items.\n",
        "\n",
        "Use cases: When data needs to change over time\n",
        "Tuples are Immutable\n",
        "Designed for fixed, constant data: Once created, the data cannot change.\n",
        "\n",
        "Use cases: Safer to use when data must stay constant, like keys in dictionaries.\n",
        "\n",
        "Q7. What is the difference between “==” and “is” operators in Python     \n",
        "Ans  == checks value equality (do they contain the same data?)\n",
        "is checks object identity (are they the exact same object in memory?)\n",
        "\n",
        "Q8. What are logical operators in Python     \n",
        "ans  Logical Operators in Python       \n",
        "In Python, logical operators are used to combine multiple conditions and make decisions based on whether those conditions are true or false. There are three main logical operators: and, or, and not. The and operator returns True only if both conditions are true. For example, x > 5 and y < 10 will only be true if both parts of the condition are satisfied. The or operator returns True if at least one condition is true, so even if one condition is false, the overall result can still be true. The not operator is used to reverse the result of a condition — if a condition is true, not will make it false, and vice versa. These logical operators are essential for writing effective control flow statements like if, while, and for loops in Python programs.\n",
        "\n",
        "Q9.  What is type casting in Python     \n",
        "ans Type casting in Python refers to converting one data type into another. It allows you to change a variable's type, such as from a string to an integer, or a float to a string.\n",
        "\n",
        " Common Type Casting Functions:\n",
        "int() – Converts to integer\n",
        "\n",
        "float() – Converts to floating-point number\n",
        "\n",
        "str() – Converts to string\n",
        "\n",
        "bool() – Converts to boolean\n",
        "\n",
        "Q10. What is the difference between implicit and explicit type casting    \n",
        "ans 1. Implicit Type Casting (Automatic)\n",
        "Done automatically by Python\n",
        "\n",
        "Happens when no data loss is expected\n",
        "\n",
        "Mainly occurs in expressions with mixed data types\n",
        "2. Explicit Type Casting (Manual)\n",
        "Done manually by the programmer\n",
        "\n",
        "Uses functions like int(), float(), str(), etc.\n",
        "\n",
        "Used when you intentionally want to change the type\n",
        "\n",
        "Q11.What is the purpose of conditional statements in Python     \n",
        "ans he purpose of conditional statements in Python is to control the flow of a program by allowing it to make decisions based on certain conditions. They enable the program to execute specific blocks of code only when certain conditions are true, making the program dynamic and responsive.\n",
        "\n",
        "Common Conditional Statements:\n",
        "if: Runs a block if the condition is true.\n",
        "\n",
        "elif (else if): Checks another condition if the previous one was false.\n",
        "\n",
        "else: Runs if none of the previous conditions were true.\n",
        "\n",
        "Q12. How does the elif statement work     \n",
        "ans The elif (short for else if) statement in Python is used to check multiple conditions after the initial if condition fails. It allows you to test several conditions in sequence, and the first one that is True will be executed. If none are true, the else block (if present) runs.\n",
        "\n",
        "\n",
        "Q13. What is the difference between for and while loops    \n",
        "ans  for Loop:\n",
        "Used when you know in advance how many times to repeat.\n",
        "\n",
        "Iterates over a sequence like a list, string, or range.     \n",
        "  while Loop:\n",
        "Used when you don’t know how many times the loop will run.\n",
        "\n",
        "Repeats as long as a condition is true.\n",
        "\n",
        "Q14. Describe a scenario where a while loop is more suitable than a for loop.   \n",
        "ans Scenario: User Login Attempt\n",
        "\n",
        "Suppose you're building a simple login system that allows the user to keep trying to log in until they enter the correct password. Since you don’t know how many attempts the user might need, a while loop is ideal.    \n",
        "correct_password = \"python123\"\n",
        "user_input = \"\"\n",
        "\n",
        "while user_input != correct_password:\n",
        "    user_input = input(\"Enter your password: \")\n",
        "\n",
        "print(\"Access granted!\")\n"
      ],
      "metadata": {
        "id": "nFtopT4rGgeE"
      }
    },
    {
      "cell_type": "markdown",
      "source": [
        "# Practical question\n"
      ],
      "metadata": {
        "id": "Bck5Ibp2MIgM"
      }
    },
    {
      "cell_type": "markdown",
      "source": [
        "Q1. Write a Python program to print \"Hello, World!\""
      ],
      "metadata": {
        "id": "K7ZiHZ4yMQ03"
      }
    },
    {
      "cell_type": "code",
      "source": [
        "print(\"Hello,World!\")"
      ],
      "metadata": {
        "colab": {
          "base_uri": "https://localhost:8080/"
        },
        "id": "xlRCVbqSL8PW",
        "outputId": "ac6f313d-ba2e-4446-9d6e-b507b36b1252"
      },
      "execution_count": 2,
      "outputs": [
        {
          "output_type": "stream",
          "name": "stdout",
          "text": [
            "Hello,World!\n"
          ]
        }
      ]
    },
    {
      "cell_type": "markdown",
      "source": [
        "Q2. Write a Python program that displays your name and age"
      ],
      "metadata": {
        "id": "Q1h3drgOMp-2"
      }
    },
    {
      "cell_type": "code",
      "source": [
        "name = \"Arihant\"\n",
        "age = 18\n",
        "\n",
        "print(\"My name is\", name)\n",
        "print(\"I am\", age, \"years old.\")\n"
      ],
      "metadata": {
        "colab": {
          "base_uri": "https://localhost:8080/"
        },
        "id": "n235EI3hM2sC",
        "outputId": "911eacf8-7e84-4e90-c511-88180d6ed462"
      },
      "execution_count": 3,
      "outputs": [
        {
          "output_type": "stream",
          "name": "stdout",
          "text": [
            "My name is Arihant\n",
            "I am 18 years old.\n"
          ]
        }
      ]
    },
    {
      "cell_type": "markdown",
      "source": [
        "Q3. Write code to print all the pre-defined keywords in Python using the keyword library"
      ],
      "metadata": {
        "id": "hH0r1ME0NFTR"
      }
    },
    {
      "cell_type": "code",
      "source": [
        "import keyword\n",
        "\n",
        "# Print all Python keywords\n",
        "print(\"List of Python keywords:\")\n",
        "for kw in keyword.kwlist:\n",
        "    print(kw)"
      ],
      "metadata": {
        "colab": {
          "base_uri": "https://localhost:8080/"
        },
        "id": "Hhj5U4PMNE6P",
        "outputId": "b01edb07-1675-402c-97b5-457e39faa2e8"
      },
      "execution_count": 4,
      "outputs": [
        {
          "output_type": "stream",
          "name": "stdout",
          "text": [
            "List of Python keywords:\n",
            "False\n",
            "None\n",
            "True\n",
            "and\n",
            "as\n",
            "assert\n",
            "async\n",
            "await\n",
            "break\n",
            "class\n",
            "continue\n",
            "def\n",
            "del\n",
            "elif\n",
            "else\n",
            "except\n",
            "finally\n",
            "for\n",
            "from\n",
            "global\n",
            "if\n",
            "import\n",
            "in\n",
            "is\n",
            "lambda\n",
            "nonlocal\n",
            "not\n",
            "or\n",
            "pass\n",
            "raise\n",
            "return\n",
            "try\n",
            "while\n",
            "with\n",
            "yield\n"
          ]
        }
      ]
    },
    {
      "cell_type": "markdown",
      "source": [
        "Q4. Write a program that checks if a given word is a Python keyword."
      ],
      "metadata": {
        "id": "2mdzIzMNNYUJ"
      }
    },
    {
      "cell_type": "code",
      "source": [
        "import keyword\n",
        "\n",
        "# Ask the user for input\n",
        "word = input(\"Enter a word to check: \")\n",
        "\n",
        "# Check if it's a keyword\n",
        "if keyword.iskeyword(word):\n",
        "    print(f\"'{word}' is a Python keyword.\")\n",
        "else:\n",
        "    print(f\"'{word}' is NOT a Python keyword.\")\n"
      ],
      "metadata": {
        "colab": {
          "base_uri": "https://localhost:8080/"
        },
        "id": "2rLCFa9hNYwh",
        "outputId": "b462449a-24c5-45ec-bde5-4aa059bc4ad4"
      },
      "execution_count": 7,
      "outputs": [
        {
          "output_type": "stream",
          "name": "stdout",
          "text": [
            "Enter a word to check: crazy\n",
            "'crazy' is NOT a Python keyword.\n"
          ]
        }
      ]
    },
    {
      "cell_type": "markdown",
      "source": [
        "Q5.  Create a list and tuple in Python, and demonstrate how attempting to change an element works differently\n",
        "for each"
      ],
      "metadata": {
        "id": "K9Y68WB1ObkG"
      }
    },
    {
      "cell_type": "code",
      "source": [
        "# Creating a list and a tuple\n",
        "my_list = [10, 20, 30]\n",
        "my_tuple = (10, 20, 30)\n",
        "\n",
        "# Modifying an element in the list\n",
        "print(\"Original list:\", my_list)\n",
        "my_list[1] = 99  # Lists are mutable\n",
        "print(\"Modified list:\", my_list)\n",
        "\n",
        "# Attempting to modify an element in the tuple\n",
        "print(\"Original tuple:\", my_tuple)\n",
        "try:\n",
        "    my_tuple[1] = 99  # Tuples are immutable, this will raise an error\n",
        "except TypeError as e:\n",
        "    print(\"Error:\", e)\n"
      ],
      "metadata": {
        "colab": {
          "base_uri": "https://localhost:8080/"
        },
        "id": "26lfQJ45OmqC",
        "outputId": "dcfa171d-cdfd-4342-e5c6-3a933aca5193"
      },
      "execution_count": 8,
      "outputs": [
        {
          "output_type": "stream",
          "name": "stdout",
          "text": [
            "Original list: [10, 20, 30]\n",
            "Modified list: [10, 99, 30]\n",
            "Original tuple: (10, 20, 30)\n",
            "Error: 'tuple' object does not support item assignment\n"
          ]
        }
      ]
    },
    {
      "cell_type": "markdown",
      "source": [
        "Q6.  Write a function to demonstrate the behavior of mutable and immutable arguments"
      ],
      "metadata": {
        "id": "8M6Rus08Ot0F"
      }
    },
    {
      "cell_type": "code",
      "source": [
        "# Function to modify both mutable and immutable arguments\n",
        "def modify_data(num, num_list):\n",
        "    print(\"\\nInside function before modification:\")\n",
        "    print(\"num =\", num)\n",
        "    print(\"num_list =\", num_list)\n",
        "\n",
        "    num += 10           # Try modifying an immutable argument (int)\n",
        "    num_list.append(99) # Modify a mutable argument (list)\n",
        "\n",
        "    print(\"\\nInside function after modification:\")\n",
        "    print(\"num =\", num)\n",
        "    print(\"num_list =\", num_list)\n",
        "\n",
        "# Outside the function\n",
        "x = 5                   # Immutable\n",
        "y = [1, 2, 3]           # Mutable\n",
        "\n",
        "print(\"Before function call:\")\n",
        "print(\"x =\", x)\n",
        "print(\"y =\", y)\n",
        "\n",
        "# Call the function\n",
        "modify_data(x, y)\n",
        "\n",
        "print(\"\\nAfter function call:\")\n",
        "print(\"x =\", x)         # x is unchanged\n",
        "print(\"y =\", y)         # y is changed\n"
      ],
      "metadata": {
        "id": "fb7DGcJ1OzxL"
      },
      "execution_count": null,
      "outputs": []
    },
    {
      "cell_type": "markdown",
      "source": [
        "Q7. Write a program that performs basic arithmetic operations on two user-input numbers."
      ],
      "metadata": {
        "id": "j3aJVMUGO78n"
      }
    },
    {
      "cell_type": "code",
      "source": [
        "# Get user input and convert to float\n",
        "num1 = float(input(\"Enter the first number: \"))\n",
        "num2 = float(input(\"Enter the second number: \"))\n",
        "\n",
        "# Perform arithmetic operations\n",
        "print(\"\\nResults of basic arithmetic operations:\")\n",
        "print(\"Addition:\", num1 + num2)\n",
        "print(\"Subtraction:\", num1 - num2)\n",
        "print(\"Multiplication:\", num1 * num2)\n",
        "\n",
        "# Handle division safely\n",
        "if num2 != 0:\n",
        "    print(\"Division:\", num1 / num2)\n",
        "else:\n",
        "    print(\"Division: Cannot divide by zero\")\n"
      ],
      "metadata": {
        "id": "_llGgMIWPLAq"
      },
      "execution_count": null,
      "outputs": []
    },
    {
      "cell_type": "markdown",
      "source": [
        "Q8.  Write a program to demonstrate the use of logical operators."
      ],
      "metadata": {
        "id": "w4WD4s20PMcB"
      }
    },
    {
      "cell_type": "code",
      "source": [
        "# Take input from the user\n",
        "age = int(input(\"Enter your age: \"))\n",
        "has_id = input(\"Do you have an ID card? (yes/no): \").lower()\n",
        "\n",
        "# Using logical operators\n",
        "print(\"\\nChecking eligibility...\")\n",
        "\n",
        "# AND operator\n",
        "if age >= 18 and has_id == \"yes\":\n",
        "    print(\"You are eligible to enter.\")\n",
        "else:\n",
        "    print(\"You are NOT eligible to enter.\")\n",
        "\n",
        "# OR operator\n",
        "if age >= 18 or has_id == \"yes\":\n",
        "    print(\"You meet at least one requirement.\")\n",
        "\n",
        "# NOT operator\n",
        "if not (has_id == \"yes\"):\n",
        "    print(\"You do not have an ID card.\")\n"
      ],
      "metadata": {
        "id": "uXObWAfJPTWa"
      },
      "execution_count": null,
      "outputs": []
    },
    {
      "cell_type": "markdown",
      "source": [
        "Q9.  Write a Python program to convert user input from string to integer, float, and boolean types."
      ],
      "metadata": {
        "id": "st06lDq0PWNK"
      }
    },
    {
      "cell_type": "code",
      "source": [
        "# Get user input as a string\n",
        "user_input = input(\"Enter a value: \")\n",
        "\n",
        "# Convert to integer\n",
        "try:\n",
        "    int_value = int(user_input)\n",
        "    print(\"Integer:\", int_value)\n",
        "except ValueError:\n",
        "    print(\"Cannot convert to Integer.\")\n",
        "\n",
        "# Convert to float\n",
        "try:\n",
        "    float_value = float(user_input)\n",
        "    print(\"Float:\", float_value)\n",
        "except ValueError:\n",
        "    print(\"Cannot convert to Float.\")\n",
        "\n",
        "# Convert to boolean\n",
        "# In Python, only empty string, \"0\", and \"False\" (case-insensitive) are considered False-like in custom logic\n",
        "bool_value = user_input.lower() not in [\"\", \"0\", \"false\"]\n",
        "print(\"Boolean:\", bool_value)\n"
      ],
      "metadata": {
        "colab": {
          "base_uri": "https://localhost:8080/"
        },
        "id": "rrwFaiwLPkox",
        "outputId": "fe4baac2-8093-48a9-ee99-1604cc6d4feb"
      },
      "execution_count": 9,
      "outputs": [
        {
          "output_type": "stream",
          "name": "stdout",
          "text": [
            "Enter a value: 21\n",
            "Integer: 21\n",
            "Float: 21.0\n",
            "Boolean: True\n"
          ]
        }
      ]
    },
    {
      "cell_type": "markdown",
      "source": [
        "Q10.  Write code to demonstrate type casting with list elements"
      ],
      "metadata": {
        "id": "THbCxQz8Pv_C"
      }
    },
    {
      "cell_type": "code",
      "source": [
        "# List with string elements representing numbers\n",
        "str_list = [\"10\", \"20\", \"30\", \"40.5\"]\n",
        "\n",
        "# Convert all elements to integers (when possible)\n",
        "int_list = []\n",
        "for item in str_list:\n",
        "    try:\n",
        "        int_list.append(int(float(item)))  # float() first to handle decimal strings like \"40.5\"\n",
        "    except ValueError:\n",
        "        print(f\"Cannot convert '{item}' to integer.\")\n",
        "print(\"List with integers:\", int_list)\n",
        "\n",
        "# Convert all elements to floats\n",
        "float_list = [float(item) for item in str_list]\n",
        "print(\"List with floats:\", float_list)\n"
      ],
      "metadata": {
        "id": "FoSHpsnQP62n"
      },
      "execution_count": null,
      "outputs": []
    },
    {
      "cell_type": "markdown",
      "source": [
        "Q11. . Write a program that checks if a number is positive, negative, or zero."
      ],
      "metadata": {
        "id": "wAni6AKOP8tR"
      }
    },
    {
      "cell_type": "code",
      "source": [
        "# Get user input and convert to float\n",
        "num = float(input(\"Enter a number: \"))\n",
        "\n",
        "# Check if the number is positive, negative, or zero\n",
        "if num > 0:\n",
        "    print(\"The number is positive.\")\n",
        "elif num < 0:\n",
        "    print(\"The number is negative.\")\n",
        "else:\n",
        "    print(\"The number is zero.\")\n"
      ],
      "metadata": {
        "id": "AbRRnQI4QBhi"
      },
      "execution_count": null,
      "outputs": []
    },
    {
      "cell_type": "markdown",
      "source": [
        "Q12.  Write a for loop to print numbers from 1 to 10."
      ],
      "metadata": {
        "id": "AJn6bpGoQH-6"
      }
    },
    {
      "cell_type": "code",
      "source": [
        "for i in range(1, 11):\n",
        "    print(i)\n"
      ],
      "metadata": {
        "id": "cxcy96nvQMKW"
      },
      "execution_count": null,
      "outputs": []
    },
    {
      "cell_type": "markdown",
      "source": [
        "Q13.  Write a Python program to find the sum of all even numbers between 1 and 50."
      ],
      "metadata": {
        "id": "WlNsXZulQQ8Q"
      }
    },
    {
      "cell_type": "code",
      "source": [
        "# Initialize sum\n",
        "even_sum = 0\n",
        "\n",
        "# Loop through numbers from 1 to 50\n",
        "for i in range(1, 51):\n",
        "    if i % 2 == 0:\n",
        "        even_sum += i\n",
        "\n",
        "# Print the result\n",
        "print(\"Sum of even numbers from 1 to 50 is:\", even_sum)\n"
      ],
      "metadata": {
        "id": "An9gaSEYQVCl"
      },
      "execution_count": null,
      "outputs": []
    },
    {
      "cell_type": "markdown",
      "source": [
        "Q14. Write a program to reverse a string using a while loop."
      ],
      "metadata": {
        "id": "kLJUgFrjQf63"
      }
    },
    {
      "cell_type": "code",
      "source": [
        "# Get input from the user\n",
        "text = input(\"Enter a string: \")\n",
        "\n",
        "# Initialize variables\n",
        "reversed_text = \"\"\n",
        "index = len(text) - 1\n",
        "\n",
        "# Reverse the string using a while loop\n",
        "while index >= 0:\n",
        "    reversed_text += text[index]\n",
        "    index -= 1\n",
        "\n",
        "# Print the reversed string\n",
        "print(\"Reversed string:\", reversed_text)\n"
      ],
      "metadata": {
        "id": "2eSGVVX7QmY5"
      },
      "execution_count": null,
      "outputs": []
    },
    {
      "cell_type": "markdown",
      "source": [
        "Q15.  Write a Python program to calculate the factorial of a number provided by the user using a while loop"
      ],
      "metadata": {
        "id": "zhBrpQdIQo3N"
      }
    },
    {
      "cell_type": "code",
      "source": [
        "# Get input from the user\n",
        "num = int(input(\"Enter a non-negative integer: \"))\n",
        "\n",
        "# Check for valid input\n",
        "if num < 0:\n",
        "    print(\"Factorial is not defined for negative numbers.\")\n",
        "else:\n",
        "    factorial = 1\n",
        "    i = 1\n",
        "\n",
        "    # Calculate factorial using while loop\n",
        "    while i <= num:\n",
        "        factorial *= i\n",
        "        i += 1\n",
        "\n",
        "    # Print the result\n",
        "    print(f\"The factorial of {num} is: {factorial}\")\n"
      ],
      "metadata": {
        "id": "ANYxtOheQxbO"
      },
      "execution_count": null,
      "outputs": []
    }
  ]
}