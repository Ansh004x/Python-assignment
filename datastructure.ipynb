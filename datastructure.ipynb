{
  "nbformat": 4,
  "nbformat_minor": 0,
  "metadata": {
    "colab": {
      "provenance": []
    },
    "kernelspec": {
      "name": "python3",
      "display_name": "Python 3"
    },
    "language_info": {
      "name": "python"
    }
  },
  "cells": [
    {
      "cell_type": "markdown",
      "source": [
        "1. What are data structures, and why are they important?  \n",
        "Data structures are specialized formats to organize, process, retrieve, and store data. They are important because they:\n",
        "\n",
        "Help manage and access data efficiently.\n",
        "\n",
        "Enable optimal algorithms (e.g., searching, sorting).\n",
        "\n",
        "Improve performance and code clarity.\n",
        "\n",
        "2. Explain the difference between mutable and immutable data types with examples.  \n",
        "Mutable: Can be changed after creation.  \n",
        "➤ Example: list, dict, set  \n",
        "Immutable: Cannot be changed once created.  \n",
        "➤ Example: int, str, tuple\n",
        "\n",
        "3. What are the main differences between lists and tuples in Python?  \n",
        "Feature\tList ([])\tTuple (())\n",
        "Mutability\tMutable\tImmutable\n",
        "Syntax\tmy_list = [1,2]\tmy_tuple = (1,2)\n",
        "Performance\tSlower\tFaster (optimized)\n",
        "Use case\tDynamic data\tFixed data (e.g., config)\n",
        "\n",
        "4.  Describe how dictionaries store data.  \n",
        "Dictionaries store data as key-value pairs using hashing.\n",
        "Example:"
      ],
      "metadata": {
        "id": "YU1oxR4Xjx9w"
      }
    },
    {
      "cell_type": "code",
      "source": [
        "student = {\"name\": \"Arihant\", \"age\": 20}\n"
      ],
      "metadata": {
        "id": "oRbfQxI7kUnn"
      },
      "execution_count": 5,
      "outputs": []
    },
    {
      "cell_type": "markdown",
      "source": [
        "5. Why might you use a set instead of a list in Python?  \n",
        "Use a set when:\n",
        "\n",
        "You want unique values only.\n",
        "\n",
        "You need fast membership checks.\n",
        "\n",
        "6.  What is a string in Python, and how is it different from a list?  \n",
        "A string is an immutable sequence of characters.\n",
        "Differences:\n",
        "\n",
        "Strings are immutable, lists are mutable.\n",
        "\n",
        "Strings store characters, lists store any type.\n",
        "\n",
        "7.\n",
        "How do tuples ensure data integrity in Python?  \n",
        "Tuples are immutable, meaning data can’t be changed after creation. This ensures:\n",
        "\n",
        "No accidental modification\n",
        "\n",
        "Safe as dictionary keys\n",
        "\n",
        "8. What is a hash table, and how does it relate to dictionaries in Python?  \n",
        "A hash table maps keys to values using a hash function.\n",
        "Python dictionaries use hash tables internally to:\n",
        "\n",
        "Provide O(1) average-time lookups\n",
        "\n",
        "Store key-value data efficiently\n",
        "9. Can lists contain different data types in Python?  \n",
        "Yes. Lists can hold elements of mixed types:\n"
      ],
      "metadata": {
        "id": "kkWOjnhgkhU6"
      }
    },
    {
      "cell_type": "code",
      "source": [
        "my_list = [1, \"hello\", 3.14, True]\n"
      ],
      "metadata": {
        "id": "Lkbop7B8lBpv"
      },
      "execution_count": 6,
      "outputs": []
    },
    {
      "cell_type": "markdown",
      "source": [
        "10. Explain why strings are immutable in Python.  \n",
        "Strings are immutable to:\n",
        "\n",
        "Improve performance (safe for caching and memory sharing)\n",
        "\n",
        "Ensure data security\n",
        "\n",
        "Avoid bugs from unintended changes\n",
        "\n",
        "11. What advantages do dictionaries offer over lists for certain tasks?  \n",
        "Fast lookup by key (O(1) vs O(n))\n",
        "\n",
        "More meaningful indexing using keys\n",
        "\n",
        "Better for structured data (e.g., records)\n",
        "\n",
        "12. Describe a scenario where using a tuple would be preferable over a list.  \n",
        "Use a tuple when:\n",
        "\n",
        "Data should not change (e.g., coordinates (x, y))\n",
        "\n",
        "You need a dictionary key\n",
        "\n",
        "For better performance\n",
        "\n",
        "14. How do sets handle duplicate values in Python?  \n",
        "Sets automatically remove duplicates:"
      ],
      "metadata": {
        "id": "jA4a7jbElFCk"
      }
    },
    {
      "cell_type": "code",
      "source": [
        "s = {1, 2, 2, 3}\n",
        "print(s)  # {1, 2, 3}\n"
      ],
      "metadata": {
        "colab": {
          "base_uri": "https://localhost:8080/"
        },
        "id": "HuzQQaSElppR",
        "outputId": "ff78b554-c1c6-44d4-8f7b-ad939bdca95a"
      },
      "execution_count": 7,
      "outputs": [
        {
          "output_type": "stream",
          "name": "stdout",
          "text": [
            "{1, 2, 3}\n"
          ]
        }
      ]
    },
    {
      "cell_type": "markdown",
      "source": [
        "15. How does the “in” keyword work differently for lists and dictionaries?  \n",
        "List: Checks if value exists → O(n)\n",
        "\n",
        "Dictionary: Checks if key exists → O(1)"
      ],
      "metadata": {
        "id": "yEbpsmI7lvmR"
      }
    },
    {
      "cell_type": "code",
      "source": [
        "5 in [1,2,5]          # True\n",
        "\"name\" in {\"name\":1}  # True\n"
      ],
      "metadata": {
        "colab": {
          "base_uri": "https://localhost:8080/"
        },
        "id": "rn-eYn9vl0Xm",
        "outputId": "a794b502-426e-4678-c0a6-19b27954257c"
      },
      "execution_count": 8,
      "outputs": [
        {
          "output_type": "execute_result",
          "data": {
            "text/plain": [
              "True"
            ]
          },
          "metadata": {},
          "execution_count": 8
        }
      ]
    },
    {
      "cell_type": "markdown",
      "source": [
        "16. Can you modify the elements of a tuple? Explain why or why not.  \n",
        "No. Tuples are immutable. You cannot change, add, or delete items."
      ],
      "metadata": {
        "id": "-6Z1tY_Nl34j"
      }
    },
    {
      "cell_type": "code",
      "source": [
        "t = (1, 2)\n",
        "t[0] = 10  # Error!\n"
      ],
      "metadata": {
        "colab": {
          "base_uri": "https://localhost:8080/",
          "height": 159
        },
        "id": "A2sfuFxJmCHl",
        "outputId": "59e87d3a-f75b-472d-b2da-9a6020b3d41a"
      },
      "execution_count": 9,
      "outputs": [
        {
          "output_type": "error",
          "ename": "TypeError",
          "evalue": "'tuple' object does not support item assignment",
          "traceback": [
            "\u001b[0;31m---------------------------------------------------------------------------\u001b[0m",
            "\u001b[0;31mTypeError\u001b[0m                                 Traceback (most recent call last)",
            "\u001b[0;32m/tmp/ipython-input-9-1837777073.py\u001b[0m in \u001b[0;36m<cell line: 0>\u001b[0;34m()\u001b[0m\n\u001b[1;32m      1\u001b[0m \u001b[0mt\u001b[0m \u001b[0;34m=\u001b[0m \u001b[0;34m(\u001b[0m\u001b[0;36m1\u001b[0m\u001b[0;34m,\u001b[0m \u001b[0;36m2\u001b[0m\u001b[0;34m)\u001b[0m\u001b[0;34m\u001b[0m\u001b[0;34m\u001b[0m\u001b[0m\n\u001b[0;32m----> 2\u001b[0;31m \u001b[0mt\u001b[0m\u001b[0;34m[\u001b[0m\u001b[0;36m0\u001b[0m\u001b[0;34m]\u001b[0m \u001b[0;34m=\u001b[0m \u001b[0;36m10\u001b[0m  \u001b[0;31m# Error!\u001b[0m\u001b[0;34m\u001b[0m\u001b[0;34m\u001b[0m\u001b[0m\n\u001b[0m",
            "\u001b[0;31mTypeError\u001b[0m: 'tuple' object does not support item assignment"
          ]
        }
      ]
    },
    {
      "cell_type": "markdown",
      "source": [
        "17. What is a nested dictionary, and give an example of its use case.  \n",
        "A nested dictionary has dictionaries as values."
      ],
      "metadata": {
        "id": "cwJSF3-kmIqO"
      }
    },
    {
      "cell_type": "code",
      "source": [
        "student = {\n",
        "  \"name\": \"Arihant\",\n",
        "  \"marks\": {\"math\": 90, \"eng\": 85}\n",
        "}\n"
      ],
      "metadata": {
        "id": "Z8gZ47b7mMTz"
      },
      "execution_count": 10,
      "outputs": []
    },
    {
      "cell_type": "markdown",
      "source": [
        "Use case: Storing structured data like records, JSON-like objects.\n",
        "\n",
        "18. Describe the time complexity of accessing elements in a dictionary.  \n",
        "Average-case: O(1) – Constant time\n",
        "\n",
        "Worst-case: O(n) – Rare, due to hash collisions\n",
        "\n",
        "19. In what situations are lists preferred over dictionaries?  \n",
        "When order matters\n",
        "\n",
        "When data is accessed by position\n",
        "\n",
        "For simple sequences\n",
        "\n",
        "Example:\n"
      ],
      "metadata": {
        "id": "ObLM8p3PmQ8z"
      }
    },
    {
      "cell_type": "code",
      "source": [
        "names = [\"Alice\", \"Bob\"]  # Better as a list\n"
      ],
      "metadata": {
        "id": "-m0mIMaKmx1D"
      },
      "execution_count": 11,
      "outputs": []
    },
    {
      "cell_type": "markdown",
      "source": [
        "20. Why are dictionaries considered unordered, and how does that affect data retrieval?  \n",
        "Before Python 3.7, dictionaries were unordered.\n",
        "From Python 3.7+, they maintain insertion order, but:\n",
        "\n",
        "Retrieval is still key-based, not by position.\n",
        "\n",
        "Not suitable for index-based access.\n",
        "\n",
        "21. Explain the difference between a list and a dictionary in terms of data retrieval.  \n",
        "List: Access by index → my_list[0]\n",
        "\n",
        "Dict: Access by key → my_dict[\"name\"]  \n",
        "Dictionaries offer faster lookups if the key is known.\n",
        "\n"
      ],
      "metadata": {
        "id": "dJA_u9Wimzg0"
      }
    },
    {
      "cell_type": "markdown",
      "source": [
        "#practial question"
      ],
      "metadata": {
        "id": "xv2GG54ynTcG"
      }
    },
    {
      "cell_type": "markdown",
      "source": [
        "1. Write a code to create a string with your name and print it"
      ],
      "metadata": {
        "id": "mwFllHtXnXNO"
      }
    },
    {
      "cell_type": "code",
      "source": [
        "name = \"Arihant\"\n",
        "print(name)\n"
      ],
      "metadata": {
        "colab": {
          "base_uri": "https://localhost:8080/"
        },
        "id": "4j76zhM-nbEi",
        "outputId": "e6e83667-1806-4dda-8da5-b97d3e911016"
      },
      "execution_count": 12,
      "outputs": [
        {
          "output_type": "stream",
          "name": "stdout",
          "text": [
            "Arihant\n"
          ]
        }
      ]
    },
    {
      "cell_type": "markdown",
      "source": [
        "2. Write a code to find the length of the string \"Hello World\""
      ],
      "metadata": {
        "id": "n25HWMhAnd37"
      }
    },
    {
      "cell_type": "code",
      "source": [
        "text = \"Hello World\"\n",
        "print(len(text))\n"
      ],
      "metadata": {
        "colab": {
          "base_uri": "https://localhost:8080/"
        },
        "id": "ES8fddGVniO1",
        "outputId": "dfe38a5b-da58-4442-eecb-acdd0b433dff"
      },
      "execution_count": 13,
      "outputs": [
        {
          "output_type": "stream",
          "name": "stdout",
          "text": [
            "11\n"
          ]
        }
      ]
    },
    {
      "cell_type": "markdown",
      "source": [
        "3.  Write a code to slice the first 3 characters from the string \"Python Programming\""
      ],
      "metadata": {
        "id": "uf5ZnzdvnlLA"
      }
    },
    {
      "cell_type": "code",
      "source": [
        "text = \"Python Programming\"\n",
        "print(text[:3])\n"
      ],
      "metadata": {
        "colab": {
          "base_uri": "https://localhost:8080/"
        },
        "id": "EqDRVBjVnpxY",
        "outputId": "f5dc642f-71b6-4691-decc-798680f6e21f"
      },
      "execution_count": 14,
      "outputs": [
        {
          "output_type": "stream",
          "name": "stdout",
          "text": [
            "Pyt\n"
          ]
        }
      ]
    },
    {
      "cell_type": "markdown",
      "source": [
        "4.  Write a code to convert the string \"hello\" to uppercase"
      ],
      "metadata": {
        "id": "2OOYt3NVnsek"
      }
    },
    {
      "cell_type": "code",
      "source": [
        "text = \"hello\"\n",
        "print(text.upper())\n"
      ],
      "metadata": {
        "colab": {
          "base_uri": "https://localhost:8080/"
        },
        "id": "4mgHn0UcolYQ",
        "outputId": "04900c0a-af1f-4784-ed1c-d4a94923155f"
      },
      "execution_count": 15,
      "outputs": [
        {
          "output_type": "stream",
          "name": "stdout",
          "text": [
            "HELLO\n"
          ]
        }
      ]
    },
    {
      "cell_type": "markdown",
      "source": [
        "5.  Write a code to replace the word \"apple\" with \"orange\" in the string \"I like apple\""
      ],
      "metadata": {
        "id": "rYt6uG5-owxd"
      }
    },
    {
      "cell_type": "code",
      "source": [
        "text = \"I like apple\"\n",
        "new_text = text.replace(\"apple\", \"orange\")\n",
        "print(new_text)\n"
      ],
      "metadata": {
        "colab": {
          "base_uri": "https://localhost:8080/"
        },
        "id": "-CRQoAC6ouSq",
        "outputId": "990e6496-aba2-4b05-fc17-659047206e6e"
      },
      "execution_count": 16,
      "outputs": [
        {
          "output_type": "stream",
          "name": "stdout",
          "text": [
            "I like orange\n"
          ]
        }
      ]
    },
    {
      "cell_type": "markdown",
      "source": [
        "6.  Write a code to create a list with numbers 1 to 5 and print it"
      ],
      "metadata": {
        "id": "Xa5WT2Cno4fY"
      }
    },
    {
      "cell_type": "code",
      "source": [
        "numbers = [1, 2, 3, 4, 5]\n",
        "print(numbers)\n"
      ],
      "metadata": {
        "colab": {
          "base_uri": "https://localhost:8080/"
        },
        "id": "K0GvovN2o-pr",
        "outputId": "2a5cdf89-0a67-4184-b84b-431d53bb64b5"
      },
      "execution_count": 17,
      "outputs": [
        {
          "output_type": "stream",
          "name": "stdout",
          "text": [
            "[1, 2, 3, 4, 5]\n"
          ]
        }
      ]
    },
    {
      "cell_type": "markdown",
      "source": [
        "7. Write a code to append the number 10 to the list [1, 2, 3, 4]"
      ],
      "metadata": {
        "id": "FJCmMCs7pCXb"
      }
    },
    {
      "cell_type": "code",
      "source": [
        "my_list = [1, 2, 3, 4]\n",
        "my_list.append(10)\n",
        "print(my_list)\n"
      ],
      "metadata": {
        "colab": {
          "base_uri": "https://localhost:8080/"
        },
        "id": "0iDDwBHupH1g",
        "outputId": "61dba954-ce8d-49a9-db37-8c906fad2661"
      },
      "execution_count": 18,
      "outputs": [
        {
          "output_type": "stream",
          "name": "stdout",
          "text": [
            "[1, 2, 3, 4, 10]\n"
          ]
        }
      ]
    },
    {
      "cell_type": "markdown",
      "source": [
        "8. Write a code to remove the number 3 from the list [1, 2, 3, 4, 5]"
      ],
      "metadata": {
        "id": "gLZgJcUKpMcY"
      }
    },
    {
      "cell_type": "code",
      "source": [
        "my_list = [1, 2, 3, 4, 5]\n",
        "my_list.remove(3)\n",
        "print(my_list)\n"
      ],
      "metadata": {
        "colab": {
          "base_uri": "https://localhost:8080/"
        },
        "id": "02-emkQ_pUHu",
        "outputId": "02ae8902-8b6b-43a8-b826-b3be34a3dce3"
      },
      "execution_count": 19,
      "outputs": [
        {
          "output_type": "stream",
          "name": "stdout",
          "text": [
            "[1, 2, 4, 5]\n"
          ]
        }
      ]
    },
    {
      "cell_type": "markdown",
      "source": [
        "9. Write a code to access the second element in the list ['a', 'b', 'c', 'd']"
      ],
      "metadata": {
        "id": "IGKKtoVUpbuj"
      }
    },
    {
      "cell_type": "code",
      "source": [
        "letters = ['a', 'b', 'c', 'd']\n",
        "print(letters[1])\n"
      ],
      "metadata": {
        "colab": {
          "base_uri": "https://localhost:8080/"
        },
        "id": "f23PQiaopdIK",
        "outputId": "bbe09049-4400-4e1a-b4a8-e52887fb64c6"
      },
      "execution_count": 20,
      "outputs": [
        {
          "output_type": "stream",
          "name": "stdout",
          "text": [
            "b\n"
          ]
        }
      ]
    },
    {
      "cell_type": "markdown",
      "source": [
        "10.  Write a code to reverse the list [10, 20, 30, 40, 50]"
      ],
      "metadata": {
        "id": "ckiyNSW2pgY6"
      }
    },
    {
      "cell_type": "code",
      "source": [
        "my_list = [10, 20, 30, 40, 50]\n",
        "my_list.reverse()\n",
        "print(my_list)\n"
      ],
      "metadata": {
        "colab": {
          "base_uri": "https://localhost:8080/"
        },
        "id": "dTI2bg14pj3V",
        "outputId": "56ab5b6b-79fc-4277-8573-3ac50cc05bde"
      },
      "execution_count": 21,
      "outputs": [
        {
          "output_type": "stream",
          "name": "stdout",
          "text": [
            "[50, 40, 30, 20, 10]\n"
          ]
        }
      ]
    },
    {
      "cell_type": "markdown",
      "source": [
        "11. 11. Create a tuple with the elements 100, 200, 300 and print it"
      ],
      "metadata": {
        "id": "uMQccF27pobv"
      }
    },
    {
      "cell_type": "code",
      "source": [
        "t = (100, 200, 300)\n",
        "print(t)\n"
      ],
      "metadata": {
        "colab": {
          "base_uri": "https://localhost:8080/"
        },
        "id": "wxNlRZS4p4hE",
        "outputId": "7ecfc5ca-83ec-4605-9fb5-613f2494d9d1"
      },
      "execution_count": 22,
      "outputs": [
        {
          "output_type": "stream",
          "name": "stdout",
          "text": [
            "(100, 200, 300)\n"
          ]
        }
      ]
    },
    {
      "cell_type": "markdown",
      "source": [
        "12. Access the second-to-last element of the tuple ('red', 'green', 'blue', 'yellow')"
      ],
      "metadata": {
        "id": "BF5TaEreqEnv"
      }
    },
    {
      "cell_type": "code",
      "source": [
        "colors = ('red', 'green', 'blue', 'yellow')\n",
        "print(colors[-2])  # Output: blue\n"
      ],
      "metadata": {
        "colab": {
          "base_uri": "https://localhost:8080/"
        },
        "id": "wfGPF93BqJLu",
        "outputId": "434f2088-a925-40af-9615-317b93339594"
      },
      "execution_count": 23,
      "outputs": [
        {
          "output_type": "stream",
          "name": "stdout",
          "text": [
            "blue\n"
          ]
        }
      ]
    },
    {
      "cell_type": "markdown",
      "source": [
        "13. Find the minimum number in the tuple (10, 20, 5, 15)"
      ],
      "metadata": {
        "id": "gLKHm4yRqOy5"
      }
    },
    {
      "cell_type": "code",
      "source": [
        "nums = (10, 20, 5, 15)\n",
        "print(min(nums))  # Output: 5\n"
      ],
      "metadata": {
        "colab": {
          "base_uri": "https://localhost:8080/"
        },
        "id": "bLU-_Ux1qS_g",
        "outputId": "455f8b87-2ee7-4d92-ca90-8e547c727c86"
      },
      "execution_count": 24,
      "outputs": [
        {
          "output_type": "stream",
          "name": "stdout",
          "text": [
            "5\n"
          ]
        }
      ]
    },
    {
      "cell_type": "markdown",
      "source": [
        "14. Find the index of \"cat\" in the tuple ('dog', 'cat', 'rabbit')"
      ],
      "metadata": {
        "id": "pjWnq-KGqYFQ"
      }
    },
    {
      "cell_type": "code",
      "source": [
        "animals = ('dog', 'cat', 'rabbit')\n",
        "print(animals.index(\"cat\"))  # Output: 1\n"
      ],
      "metadata": {
        "id": "zb-irjYWqY3p"
      },
      "execution_count": null,
      "outputs": []
    },
    {
      "cell_type": "markdown",
      "source": [
        "15. Create a tuple with 3 fruits and check if \"kiwi\" is in it"
      ],
      "metadata": {
        "id": "zbyWwwloqalr"
      }
    },
    {
      "cell_type": "code",
      "source": [
        "fruits = (\"apple\", \"banana\", \"mango\")\n",
        "print(\"kiwi\" in fruits)  # Output: False\n"
      ],
      "metadata": {
        "colab": {
          "base_uri": "https://localhost:8080/"
        },
        "id": "apJJquIQqc75",
        "outputId": "4c9fc7c6-ccf4-443d-c386-b80e6ac93167"
      },
      "execution_count": 25,
      "outputs": [
        {
          "output_type": "stream",
          "name": "stdout",
          "text": [
            "False\n"
          ]
        }
      ]
    },
    {
      "cell_type": "markdown",
      "source": [
        "16. Create a set with the elements 'a', 'b', 'c' and print it"
      ],
      "metadata": {
        "id": "zTcxEL3KqiBh"
      }
    },
    {
      "cell_type": "code",
      "source": [
        "s = {'a', 'b', 'c'}\n",
        "print(s)\n"
      ],
      "metadata": {
        "colab": {
          "base_uri": "https://localhost:8080/"
        },
        "id": "tgA8F4Fcqi44",
        "outputId": "d88304e2-8b75-49a8-f921-fd018437b524"
      },
      "execution_count": 26,
      "outputs": [
        {
          "output_type": "stream",
          "name": "stdout",
          "text": [
            "{'b', 'a', 'c'}\n"
          ]
        }
      ]
    },
    {
      "cell_type": "markdown",
      "source": [
        "17. Clear all elements from the set {1, 2, 3, 4, 5}"
      ],
      "metadata": {
        "id": "_2NHwYZ_qlAr"
      }
    },
    {
      "cell_type": "code",
      "source": [
        "s = {1, 2, 3, 4, 5}\n",
        "s.clear()\n",
        "print(s)  # Output: set()\n"
      ],
      "metadata": {
        "colab": {
          "base_uri": "https://localhost:8080/"
        },
        "id": "rfQ2JnuGqmze",
        "outputId": "74e2bae4-8a34-4d78-a715-c22c143ab78e"
      },
      "execution_count": 27,
      "outputs": [
        {
          "output_type": "stream",
          "name": "stdout",
          "text": [
            "set()\n"
          ]
        }
      ]
    },
    {
      "cell_type": "markdown",
      "source": [
        "18. Remove the element 4 from the set {1, 2, 3, 4}"
      ],
      "metadata": {
        "id": "mb8rLu-AqsAX"
      }
    },
    {
      "cell_type": "code",
      "source": [
        "s = {1, 2, 3, 4}\n",
        "s.remove(4)\n",
        "print(s)  # Output: {1, 2, 3}\n"
      ],
      "metadata": {
        "colab": {
          "base_uri": "https://localhost:8080/"
        },
        "id": "-RBcMsTAqsv4",
        "outputId": "f2b54825-fefd-4808-e021-3ae7910bdfde"
      },
      "execution_count": 28,
      "outputs": [
        {
          "output_type": "stream",
          "name": "stdout",
          "text": [
            "{1, 2, 3}\n"
          ]
        }
      ]
    },
    {
      "cell_type": "markdown",
      "source": [
        "19. Find the union of sets {1, 2, 3} and {3, 4, 5}"
      ],
      "metadata": {
        "id": "cYHiV7inqx38"
      }
    },
    {
      "cell_type": "code",
      "source": [
        "a = {1, 2, 3}\n",
        "b = {3, 4, 5}\n",
        "print(a.union(b))  # Output: {1, 2, 3, 4, 5}\n"
      ],
      "metadata": {
        "colab": {
          "base_uri": "https://localhost:8080/"
        },
        "id": "0DdUFoLeqznt",
        "outputId": "f5676ca3-21a4-4753-a272-09df3b263a42"
      },
      "execution_count": 29,
      "outputs": [
        {
          "output_type": "stream",
          "name": "stdout",
          "text": [
            "{1, 2, 3, 4, 5}\n"
          ]
        }
      ]
    },
    {
      "cell_type": "markdown",
      "source": [
        "20. Find the intersection of sets {1, 2, 3} and {2, 3, 4}"
      ],
      "metadata": {
        "id": "MRz5WqH7q2Uo"
      }
    },
    {
      "cell_type": "code",
      "source": [
        "a = {1, 2, 3}\n",
        "b = {2, 3, 4}\n",
        "print(a.intersection(b))  # Output: {2, 3}\n"
      ],
      "metadata": {
        "colab": {
          "base_uri": "https://localhost:8080/"
        },
        "id": "rBcsNU7Nq4hZ",
        "outputId": "e9d5d316-c4c4-46ef-a418-e528732c1f52"
      },
      "execution_count": 30,
      "outputs": [
        {
          "output_type": "stream",
          "name": "stdout",
          "text": [
            "{2, 3}\n"
          ]
        }
      ]
    },
    {
      "cell_type": "markdown",
      "source": [
        "21. Create a dictionary with keys \"name\", \"age\", and \"city\", and print it"
      ],
      "metadata": {
        "id": "1kUA7A8nq9r9"
      }
    },
    {
      "cell_type": "code",
      "source": [
        "person = {\"name\": \"Arihant\", \"age\": 21, \"city\": \"Delhi\"}\n",
        "print(person)\n"
      ],
      "metadata": {
        "colab": {
          "base_uri": "https://localhost:8080/"
        },
        "id": "dPzG6tlYq-xp",
        "outputId": "935385ab-bf7c-425a-8da2-1bf5f46b6a88"
      },
      "execution_count": 31,
      "outputs": [
        {
          "output_type": "stream",
          "name": "stdout",
          "text": [
            "{'name': 'Arihant', 'age': 21, 'city': 'Delhi'}\n"
          ]
        }
      ]
    },
    {
      "cell_type": "markdown",
      "source": [
        "22. Add key-value pair \"country\": \"USA\" to dictionary {'name': 'John', 'age': 25}"
      ],
      "metadata": {
        "id": "EVRrZsBirBjB"
      }
    },
    {
      "cell_type": "code",
      "source": [
        "person = {'name': 'John', 'age': 25}\n",
        "person[\"country\"] = \"USA\"\n",
        "print(person)\n"
      ],
      "metadata": {
        "colab": {
          "base_uri": "https://localhost:8080/"
        },
        "id": "y4cFzun_rEXb",
        "outputId": "a34c45a6-978c-49ac-87af-7720c6326ce5"
      },
      "execution_count": 32,
      "outputs": [
        {
          "output_type": "stream",
          "name": "stdout",
          "text": [
            "{'name': 'John', 'age': 25, 'country': 'USA'}\n"
          ]
        }
      ]
    },
    {
      "cell_type": "markdown",
      "source": [
        "23. Access the value of key \"name\" in {'name': 'Alice', 'age': 30}"
      ],
      "metadata": {
        "id": "TLGP8sRTrLCv"
      }
    },
    {
      "cell_type": "code",
      "source": [
        "person = {'name': 'Alice', 'age': 30}\n",
        "print(person[\"name\"])  # Output: Alice\n"
      ],
      "metadata": {
        "colab": {
          "base_uri": "https://localhost:8080/"
        },
        "id": "1sZ_UQ_grLw9",
        "outputId": "1d914c61-22be-469b-f062-734916ed61b1"
      },
      "execution_count": 33,
      "outputs": [
        {
          "output_type": "stream",
          "name": "stdout",
          "text": [
            "Alice\n"
          ]
        }
      ]
    },
    {
      "cell_type": "markdown",
      "source": [
        "24. Remove key \"age\" from {'name': 'Bob', 'age': 22, 'city': 'New York'}"
      ],
      "metadata": {
        "id": "b07yMKObrPID"
      }
    },
    {
      "cell_type": "code",
      "source": [
        "person = {'name': 'Bob', 'age': 22, 'city': 'New York'}\n",
        "person.pop(\"age\")\n",
        "print(person)\n"
      ],
      "metadata": {
        "colab": {
          "base_uri": "https://localhost:8080/"
        },
        "id": "bwrUJVmurP4O",
        "outputId": "24c88682-2e03-41ea-e8bb-3320cc53beb4"
      },
      "execution_count": 34,
      "outputs": [
        {
          "output_type": "stream",
          "name": "stdout",
          "text": [
            "{'name': 'Bob', 'city': 'New York'}\n"
          ]
        }
      ]
    },
    {
      "cell_type": "markdown",
      "source": [
        "25. Check if key \"city\" exists in {'name': 'Alice', 'city': 'Paris'}"
      ],
      "metadata": {
        "id": "_93WRZ7hrSaZ"
      }
    },
    {
      "cell_type": "code",
      "source": [
        "person = {'name': 'Alice', 'city': 'Paris'}\n",
        "print(\"city\" in person)  # Output: True\n"
      ],
      "metadata": {
        "colab": {
          "base_uri": "https://localhost:8080/"
        },
        "id": "sM_fmuUVrXzl",
        "outputId": "2580d097-5db3-488a-b3d8-4200027adca9"
      },
      "execution_count": 35,
      "outputs": [
        {
          "output_type": "stream",
          "name": "stdout",
          "text": [
            "True\n"
          ]
        }
      ]
    },
    {
      "cell_type": "markdown",
      "source": [
        "26. Create a list, a tuple, and a dictionary, and print them"
      ],
      "metadata": {
        "id": "hhH5yMXCrZKp"
      }
    },
    {
      "cell_type": "code",
      "source": [
        "my_list = [1, 2, 3]\n",
        "my_tuple = (4, 5, 6)\n",
        "my_dict = {\"a\": 1, \"b\": 2}\n",
        "print(my_list)\n",
        "print(my_tuple)\n",
        "print(my_dict)\n"
      ],
      "metadata": {
        "colab": {
          "base_uri": "https://localhost:8080/"
        },
        "id": "2fQf9B0LrcCy",
        "outputId": "03904a15-7d63-4bc1-a861-aac0a0d900fe"
      },
      "execution_count": 36,
      "outputs": [
        {
          "output_type": "stream",
          "name": "stdout",
          "text": [
            "[1, 2, 3]\n",
            "(4, 5, 6)\n",
            "{'a': 1, 'b': 2}\n"
          ]
        }
      ]
    },
    {
      "cell_type": "markdown",
      "source": [
        "27. Create a list of 5 random numbers between 1 and 100, sort, and print"
      ],
      "metadata": {
        "id": "QxGC9qaRrhhw"
      }
    },
    {
      "cell_type": "code",
      "source": [
        "import random\n",
        "nums = random.sample(range(1, 101), 5)\n",
        "nums.sort()\n",
        "print(nums)\n"
      ],
      "metadata": {
        "colab": {
          "base_uri": "https://localhost:8080/"
        },
        "id": "WkvbSeZsromn",
        "outputId": "c05f1b71-8892-4c60-ed44-14e8f58bceac"
      },
      "execution_count": 37,
      "outputs": [
        {
          "output_type": "stream",
          "name": "stdout",
          "text": [
            "[6, 18, 25, 72, 81]\n"
          ]
        }
      ]
    },
    {
      "cell_type": "markdown",
      "source": [
        "28. Create a list with strings and print element at third index"
      ],
      "metadata": {
        "id": "wEt_D8Lersyn"
      }
    },
    {
      "cell_type": "code",
      "source": [
        "words = [\"apple\", \"banana\", \"cherry\", \"date\", \"fig\"]\n",
        "print(words[3])  # Output: date\n"
      ],
      "metadata": {
        "colab": {
          "base_uri": "https://localhost:8080/"
        },
        "id": "nIC4eerNrq6k",
        "outputId": "0518adb0-89fc-4c8a-f6fb-7de3c118348a"
      },
      "execution_count": 38,
      "outputs": [
        {
          "output_type": "stream",
          "name": "stdout",
          "text": [
            "date\n"
          ]
        }
      ]
    },
    {
      "cell_type": "markdown",
      "source": [
        "29. Combine two dictionaries and print the result"
      ],
      "metadata": {
        "id": "V_sy9GOzrzX8"
      }
    },
    {
      "cell_type": "code",
      "source": [
        "dict1 = {\"a\": 1, \"b\": 2}\n",
        "dict2 = {\"c\": 3, \"d\": 4}\n",
        "combined = {**dict1, **dict2}\n",
        "print(combined)\n"
      ],
      "metadata": {
        "colab": {
          "base_uri": "https://localhost:8080/"
        },
        "id": "-JmvSx1hr3xa",
        "outputId": "7ef85745-fcf9-4f6d-8897-4346d6ca9c2d"
      },
      "execution_count": 39,
      "outputs": [
        {
          "output_type": "stream",
          "name": "stdout",
          "text": [
            "{'a': 1, 'b': 2, 'c': 3, 'd': 4}\n"
          ]
        }
      ]
    },
    {
      "cell_type": "markdown",
      "source": [
        "30. Convert a list of strings into a set"
      ],
      "metadata": {
        "id": "jrWQP53Lr6bP"
      }
    },
    {
      "cell_type": "code",
      "source": [
        "str_list = [\"apple\", \"banana\", \"apple\", \"cherry\"]\n",
        "str_set = set(str_list)\n",
        "print(str_set)  # Removes duplicates\n"
      ],
      "metadata": {
        "id": "cEXLSZhIr9XS"
      },
      "execution_count": null,
      "outputs": []
    }
  ]
}